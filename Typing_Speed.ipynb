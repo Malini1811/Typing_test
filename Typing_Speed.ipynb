{
 "cells": [
  {
   "cell_type": "code",
   "execution_count": 2,
   "id": "6deeef30-ea14-4e42-b2be-0f6d673f0fc9",
   "metadata": {},
   "outputs": [
    {
     "name": "stdout",
     "output_type": "stream",
     "text": [
      "Type the following sentence:\n",
      "\n",
      "\"博士\" (doctor). inhabitants, one of the parser make\n",
      "\n",
      "------------------------------------------------------------\n"
     ]
    },
    {
     "name": "stdin",
     "output_type": "stream",
     "text": [
      "\n",
      "Start typing here:\n",
      " ftjukk7jyj7k8\n"
     ]
    },
    {
     "name": "stdout",
     "output_type": "stream",
     "text": [
      "\n",
      "------------------------------------------------------------\n",
      "Accuracy       : 0.0%\n",
      "Mistakes       : 8 word(s)\n",
      "Time Taken     : 7.57 seconds\n",
      "Typing Speed   : 63 words per minute\n",
      "Feedback       : You need to practice typing more!\n"
     ]
    }
   ],
   "source": [
    "import time\n",
    "from essential_generators import DocumentGenerator\n",
    "\n",
    "# Generate a random sentence\n",
    "gen = DocumentGenerator()\n",
    "original = gen.sentence()\n",
    "original_words = original.split()\n",
    "word_count = len(original_words)\n",
    "\n",
    "print(\"Type the following sentence:\\n\")\n",
    "print(original)\n",
    "print(\"\\n\" + \"-\"*60)\n",
    "\n",
    "# Start timer\n",
    "start_time = time.time()\n",
    "\n",
    "# Get user input\n",
    "typed = input(\"\\nStart typing here:\\n\")\n",
    "typed_words = typed.split()\n",
    "\n",
    "# End timer\n",
    "end_time = time.time()\n",
    "\n",
    "# Calculate results\n",
    "correct = 0\n",
    "mistake_count = 0\n",
    "\n",
    "for o, t in zip(original_words, typed_words):\n",
    "    if o == t:\n",
    "        correct += 1\n",
    "    else:\n",
    "        mistake_count += 1\n",
    "\n",
    "mistake_count += abs(len(original_words) - len(typed_words))\n",
    "\n",
    "time_taken = round(end_time - start_time, 2)\n",
    "accuracy_percent = round((correct / word_count) * 100, 2)\n",
    "wpm = round((word_count / time_taken) * 60)\n",
    "\n",
    "# Feedback\n",
    "if accuracy_percent < 50 or wpm < 30:\n",
    "    feedback = \"You need to practice typing more!\"\n",
    "elif accuracy_percent < 80 or wpm < 60:\n",
    "    feedback = \"You are doing great!\"\n",
    "elif accuracy_percent <= 100 or wpm <= 100:\n",
    "    feedback = \"You are a pro in typing!\"\n",
    "else:\n",
    "    feedback = \"You are a typing machine!\"\n",
    "\n",
    "# Display result\n",
    "print(\"\\n\" + \"-\"*60)\n",
    "print(f\"Accuracy       : {accuracy_percent}%\")\n",
    "print(f\"Mistakes       : {mistake_count} word(s)\")\n",
    "print(f\"Time Taken     : {time_taken} seconds\")\n",
    "print(f\"Typing Speed   : {wpm} words per minute\")\n",
    "print(f\"Feedback       : {feedback}\")\n"
   ]
  },
  {
   "cell_type": "code",
   "execution_count": null,
   "id": "8ed38a21-7f5d-4b01-ac91-17c57c481c50",
   "metadata": {},
   "outputs": [],
   "source": []
  }
 ],
 "metadata": {
  "kernelspec": {
   "display_name": "Python 3 (ipykernel)",
   "language": "python",
   "name": "python3"
  },
  "language_info": {
   "codemirror_mode": {
    "name": "ipython",
    "version": 3
   },
   "file_extension": ".py",
   "mimetype": "text/x-python",
   "name": "python",
   "nbconvert_exporter": "python",
   "pygments_lexer": "ipython3",
   "version": "3.12.7"
  }
 },
 "nbformat": 4,
 "nbformat_minor": 5
}
